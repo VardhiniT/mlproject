{
 "cells": [
  {
   "cell_type": "markdown",
   "metadata": {},
   "source": [
    "## Model Training - Mechine Learning Proccess\n",
    "In this part of the process, we aim to find the best model accuracy for predicting delay departure and delay arrival in airline data. <br><br>\n",
    "\n",
    "### For each Model we tried for both Delay Depature and Delay Arrival\n",
    "\n",
    "<h>-> Prepare X and y. We prepare the feature matrix X and the target variable y for the delay departure prediction.<br>\n",
    "-> Encode the categorical target variable. We encode the categorical target variable y using the label encoder.<br>\n",
    "-> Next, we split the data into training and testing sets for model training and model evaluation.<br>\n",
    "-> We train the machine learning model using linear regression, Random Forest and Gradient Boosting Regressor.<br>\n",
    "-> We evaluate the model's accuracy on the testing dataset and then return the predict value to the application.\n",
    "</h>"
   ]
  },
  {
   "cell_type": "markdown",
   "metadata": {},
   "source": [
    "### Delay_Depature: "
   ]
  },
  {
   "cell_type": "markdown",
   "metadata": {},
   "source": [
    "<div class=\"alert alert-block alert-info\">\n",
    "<b>Linear Regression</b> Model Accuracy: 0.71831516047533.\n",
    "</div>"
   ]
  },
  {
   "cell_type": "code",
   "execution_count": 14,
   "metadata": {},
   "outputs": [
    {
     "name": "stdout",
     "output_type": "stream",
     "text": [
      "Model Accuracy: 0.7183151604753301\n"
     ]
    }
   ],
   "source": [
    "\n",
    "import pandas as pd\n",
    "import time\n",
    "import numpy as np\n",
    "#from datetime import datetime\n",
    "#import random\n",
    "#import csv\n",
    "import math\n",
    "import matplotlib.pyplot as plt\n",
    "import seaborn as sns\n",
    "from sklearn.model_selection import train_test_split\n",
    "from sklearn.ensemble import GradientBoostingRegressor\n",
    "from scipy.stats import pearsonr\n",
    "from mpl_toolkits.mplot3d import Axes3D\n",
    "from sklearn.linear_model import LinearRegression\n",
    "from sklearn.preprocessing import LabelEncoder\n",
    "from sklearn.ensemble import RandomForestRegressor\n",
    "\n",
    "data = pd.read_csv('data/flight_Data.csv')\n",
    "\n",
    "# Prepare X and y\n",
    "y = data['delay_departure']\n",
    "data = data.drop(['delay_departure'], axis=1)\n",
    "X = data.select_dtypes(include=['int', 'float']).values\n",
    "\n",
    "# Encode the categorical target variable\n",
    "label_encoder = LabelEncoder()\n",
    "y_encoded = label_encoder.fit_transform(y)\n",
    "\n",
    "# Split the data into training and testing sets\n",
    "X_train, X_test, y_train, y_test = train_test_split(X, y_encoded, test_size=0.2, random_state=42)\n",
    "\n",
    "# Train the machine learning model (Linear Regression)\n",
    "model = LinearRegression()\n",
    "model.fit(X_train, y_train)\n",
    "\n",
    "# Evaluate the model\n",
    "accuracy = model.score(X_test, y_test)\n",
    "print(\"Model Accuracy:\", accuracy)"
   ]
  },
  {
   "cell_type": "markdown",
   "metadata": {},
   "source": [
    "<div class=\"alert alert-block alert-info\">\n",
    "<b>Random Forest</b> Model Accuracy: 0.7765340094843546.\n",
    "</div>"
   ]
  },
  {
   "cell_type": "code",
   "execution_count": 6,
   "metadata": {},
   "outputs": [
    {
     "name": "stdout",
     "output_type": "stream",
     "text": [
      "Model Accuracy: 0.7765340094843546\n"
     ]
    }
   ],
   "source": [
    "data = pd.read_csv('data/flight_Data.csv')\n",
    "\n",
    "# Prepare X and y\n",
    "y = data['delay_departure']\n",
    "data = data.drop(['delay_departure'], axis=1)\n",
    "X = data.select_dtypes(include=['int', 'float']).values\n",
    "\n",
    "# Split the data into training and testing sets\n",
    "X_train, X_test, y_train, y_test = train_test_split(X, y, test_size=0.2, random_state=42)\n",
    "\n",
    "# Train the machine learning model (Random Forest Regressor)\n",
    "model = RandomForestRegressor(n_estimators=100, max_depth=5, random_state=42)\n",
    "model.fit(X_train, y_train)\n",
    "\n",
    "# Evaluate the model\n",
    "accuracy = model.score(X_test, y_test)\n",
    "print(\"Model Accuracy:\", accuracy)"
   ]
  },
  {
   "cell_type": "markdown",
   "metadata": {},
   "source": [
    "<div class=\"alert alert-block alert-info\">\n",
    "<b>Gradient Boosting Regressor</b> Model Accuracy:  0.8433379292827841.\n",
    "</div>"
   ]
  },
  {
   "cell_type": "code",
   "execution_count": 8,
   "metadata": {},
   "outputs": [
    {
     "name": "stdout",
     "output_type": "stream",
     "text": [
      "Model Accuracy: 0.8433379292827841\n"
     ]
    }
   ],
   "source": [
    "# Load the dataset\n",
    "data = pd.read_csv('data/flight_Data.csv')\n",
    "\n",
    "\n",
    "# Prepare X and y\n",
    "y = data['delay_departure']\n",
    "data = data.drop(['delay_departure', 'actual_departures'], axis=1)\n",
    "X = data.select_dtypes(include=['int', 'float']).values\n",
    "\n",
    "# Split the data into training and testing sets\n",
    "X_train, X_test, y_train, y_test = train_test_split(X, y, test_size=0.2, random_state=42)\n",
    "\n",
    "# Train the machine learning model (Gradient Boosting Regressor)\n",
    "model = GradientBoostingRegressor(n_estimators=100, learning_rate=0.1, max_depth=5, random_state=42)\n",
    "model.fit(X_train, y_train)\n",
    "\n",
    "# Evaluate the model\n",
    "accuracy = model.score(X_test, y_test)\n",
    "print(\"Model Accuracy:\", accuracy)\n"
   ]
  },
  {
   "cell_type": "markdown",
   "metadata": {},
   "source": [
    "### Delay_arrival: "
   ]
  },
  {
   "cell_type": "markdown",
   "metadata": {},
   "source": [
    "<div class=\"alert alert-block alert-info\">\n",
    "<b>Linear Regression</b> Model Accuracy: 0.5865877504910723.\n",
    "</div>"
   ]
  },
  {
   "cell_type": "code",
   "execution_count": 10,
   "metadata": {},
   "outputs": [
    {
     "name": "stdout",
     "output_type": "stream",
     "text": [
      "Model Accuracy: 0.5865877504910723\n"
     ]
    }
   ],
   "source": [
    "# Load the dataset\n",
    "data = pd.read_csv('data/flight_Data.csv')\n",
    "\n",
    "# Prepare X and y\n",
    "y = data['delay_arrival']\n",
    "data = data.drop(['delay_arrival'], axis=1)\n",
    "X = data.select_dtypes(include=['int', 'float']).values\n",
    "\n",
    "# Encode the categorical target variable\n",
    "label_encoder = LabelEncoder()\n",
    "y_encoded = label_encoder.fit_transform(y)\n",
    "\n",
    "# Split the data into training and testing sets\n",
    "X_train, X_test, y_train, y_test = train_test_split(X, y_encoded, test_size=0.2, random_state=42)\n",
    "\n",
    "# Train the machine learning model (Linear Regression)\n",
    "model = LinearRegression()\n",
    "model.fit(X_train, y_train)\n",
    "\n",
    "# Evaluate the model\n",
    "accuracy = model.score(X_test, y_test)\n",
    "print(\"Model Accuracy:\", accuracy)"
   ]
  },
  {
   "cell_type": "markdown",
   "metadata": {},
   "source": [
    "<div class=\"alert alert-block alert-info\">\n",
    "<b>Random Forest</b> Model Accuracy: 0.8436364230025993.\n",
    "</div>"
   ]
  },
  {
   "cell_type": "code",
   "execution_count": 11,
   "metadata": {},
   "outputs": [
    {
     "name": "stdout",
     "output_type": "stream",
     "text": [
      "Model Accuracy: 0.8436364230025993\n"
     ]
    }
   ],
   "source": [
    "# Load the dataset\n",
    "data = pd.read_csv('data/flight_Data.csv')\n",
    "\n",
    "# Prepare X and y\n",
    "y = data['delay_arrival']\n",
    "data = data.drop(['delay_arrival'], axis=1)\n",
    "X = data.select_dtypes(include=['int', 'float']).values\n",
    "\n",
    "# Split the data into training and testing sets\n",
    "X_train, X_test, y_train, y_test = train_test_split(X, y, test_size=0.2, random_state=42)\n",
    "\n",
    "# Train the machine learning model (Random Forest Regressor)\n",
    "model = RandomForestRegressor(n_estimators=100, max_depth=5, random_state=42)\n",
    "model.fit(X_train, y_train)\n",
    "\n",
    "# Evaluate the model\n",
    "accuracy = model.score(X_test, y_test)\n",
    "print(\"Model Accuracy:\", accuracy)"
   ]
  },
  {
   "cell_type": "markdown",
   "metadata": {},
   "source": [
    "<div class=\"alert alert-block alert-info\">\n",
    "<b>Gradient Boosting Regressor</b> Model Accuracy:  0.8659596309495732.\n",
    "</div>"
   ]
  },
  {
   "cell_type": "code",
   "execution_count": 12,
   "metadata": {},
   "outputs": [
    {
     "name": "stdout",
     "output_type": "stream",
     "text": [
      "Model Accuracy: 0.8659596309495732\n"
     ]
    }
   ],
   "source": [
    "# Load the dataset\n",
    "data = pd.read_csv('data/flight_Data.csv')\n",
    "\n",
    "# Prepare X and y\n",
    "y = data['delay_arrival']\n",
    "data = data.drop(['delay_arrival', 'actual_arrival'], axis=1)\n",
    "X = data.select_dtypes(include=['int', 'float']).values\n",
    "\n",
    "# Split the data into training and testing sets\n",
    "X_train, X_test, y_train, y_test = train_test_split(X, y, test_size=0.2, random_state=42)\n",
    "\n",
    "# Train the machine learning model (Gradient Boosting Regressor)\n",
    "model = GradientBoostingRegressor(n_estimators=100, learning_rate=0.1, max_depth=5, random_state=42)\n",
    "model.fit(X_train, y_train)\n",
    "\n",
    "# Evaluate the model\n",
    "accuracy = model.score(X_test, y_test)\n",
    "print(\"Model Accuracy:\", accuracy)"
   ]
  },
  {
   "cell_type": "markdown",
   "metadata": {},
   "source": [
    "## Feature Importance On Gradient Boosting Regressor"
   ]
  },
  {
   "cell_type": "markdown",
   "metadata": {},
   "source": [
    "<div class=\"alert alert-block alert-success\">\n",
    "<b>Improved GBR on delay_departure</b> Model Accuracy:  0.93551856.<br>\n",
    "<b>Improved GBR on delay_arrival</b> Model Accuracy:  0.94647679.\n",
    "</div>"
   ]
  },
  {
   "cell_type": "code",
   "execution_count": 15,
   "metadata": {},
   "outputs": [
    {
     "data": {
      "image/png": "[encoded data removed]",
      "text/plain": [
       "<Figure size 640x480 with 1 Axes>"
      ]
     },
     "metadata": {},
     "output_type": "display_data"
    },
    {
     "name": "stdout",
     "output_type": "stream",
     "text": [
      "Accuracy: 93.551856%\n",
      "Feature importances:\n",
      "                   Feature  Importance\n",
      "5            delay_arrival    0.613637\n",
      "7   scheduled_arrival_hour    0.100462\n",
      "4             WIND_arrival    0.085243\n",
      "2     DIRECTION_departures    0.084675\n",
      "3     TEMPERRATURE_arrival    0.049209\n",
      "1          WIND_departures    0.037412\n",
      "0  TEMPERRATURE_departures    0.019946\n",
      "6        direction_arrival    0.009415\n"
     ]
    }
   ],
   "source": [
    "# Load the dataset\n",
    "data = pd.read_csv('data/flight_Data.csv')\n",
    "\n",
    "# Prepare X and y\n",
    "y = data['delay_departure']\n",
    "data = data.drop(['delay_departure', 'actual_departures','scheduled_departures','direction_departure','scheduled_departure_hour'], axis=1)\n",
    "X = data.select_dtypes(include=['int', 'float']).values\n",
    "col_names = data.select_dtypes(include=['int', 'float']).columns\n",
    "\n",
    "# Train the machine learning model (Gradient Boosting Regressor)\n",
    "model = GradientBoostingRegressor(n_estimators=100, learning_rate=0.1, max_depth=5, random_state=42)\n",
    "model.fit(X, y)\n",
    "\n",
    "# Make predictions\n",
    "y_pred = model.predict(X)\n",
    "\n",
    "# Create a DataFrame with actual and predicted values\n",
    "results_df = pd.DataFrame({'Actual Delay': y, 'Predicted Delay': y_pred})\n",
    "\n",
    "# Create an array for x-axis values (indices)\n",
    "x = np.arange(len(results_df))\n",
    "\n",
    "# Plot the bar plot\n",
    "plt.bar(x, results_df['Actual Delay'], label='Actual Delay')\n",
    "plt.bar(x, results_df['Predicted Delay'], label='Predicted Delay')\n",
    "plt.xlabel('Instance')\n",
    "plt.ylabel('Delay')\n",
    "plt.title('Actual vs Predicted Delay')\n",
    "plt.ylim(-200, 200)  # Set the Y-axis limits\n",
    "plt.legend()\n",
    "plt.show()\n",
    "\n",
    "# Print the accuracy percentage\n",
    "accuracy = model.score(X, y) * 100\n",
    "print(\"Accuracy: {:.6f}%\".format(accuracy))\n",
    "\n",
    "# Get the feature importances\n",
    "feature_importances = model.feature_importances_\n",
    "\n",
    "# Create a DataFrame with the column names and feature importances\n",
    "importance_df = pd.DataFrame({'Feature': col_names, 'Importance': feature_importances})\n",
    "\n",
    "# Sort the DataFrame by feature importances in descending order\n",
    "importance_df.sort_values(by='Importance', ascending=False, inplace=True)\n",
    "\n",
    "# Print the feature importances\n",
    "print(\"Feature importances:\")\n",
    "print(importance_df)"
   ]
  },
  {
   "cell_type": "code",
   "execution_count": 16,
   "metadata": {},
   "outputs": [
    {
     "data": {
      "image/png": "[encoded data removed]",
      "text/plain": [
       "<Figure size 640x480 with 1 Axes>"
      ]
     },
     "metadata": {},
     "output_type": "display_data"
    },
    {
     "name": "stdout",
     "output_type": "stream",
     "text": [
      "Accuracy: 94.647679%\n",
      "Feature importances:\n",
      "                    Feature  Importance\n",
      "4           delay_departure    0.710512\n",
      "6         direction_arrival    0.201699\n",
      "2      DIRECTION_departures    0.037459\n",
      "7  scheduled_departure_hour    0.016308\n",
      "3              WIND_arrival    0.016012\n",
      "0   TEMPERRATURE_departures    0.010078\n",
      "1           WIND_departures    0.007717\n",
      "5       direction_departure    0.000216\n"
     ]
    }
   ],
   "source": [
    "# Load the dataset\n",
    "data = pd.read_csv('data/flight_Data.csv')\n",
    "\n",
    "# Prepare X and y\n",
    "y = data['delay_arrival']\n",
    "data = data.drop(['delay_arrival', 'actual_arrival','scheduled_arrival','scheduled_arrival_hour', 'TEMPERRATURE_arrival'], axis=1)\n",
    "X = data.select_dtypes(include=['int', 'float']).values\n",
    "col_names = data.select_dtypes(include=['int', 'float']).columns\n",
    "\n",
    "# Train the machine learning model (Gradient Boosting Regressor)\n",
    "model = GradientBoostingRegressor(n_estimators=100, learning_rate=0.1, max_depth=5, random_state=42)\n",
    "model.fit(X, y)\n",
    "\n",
    "# Make predictions\n",
    "y_pred = model.predict(X)\n",
    "\n",
    "# Create a DataFrame with actual and predicted values\n",
    "results_df = pd.DataFrame({'Actual Delay': y, 'Predicted Delay': y_pred})\n",
    "\n",
    "# Create an array for x-axis values (indices)\n",
    "x = np.arange(len(results_df))\n",
    "\n",
    "# Plot the bar plot\n",
    "plt.bar(x, results_df['Actual Delay'], label='Actual Delay')\n",
    "plt.bar(x, results_df['Predicted Delay'], label='Predicted Delay')\n",
    "plt.xlabel('Instance')\n",
    "plt.ylabel('Delay')\n",
    "plt.title('Actual vs Predicted Delay')\n",
    "plt.ylim(-200, 200)  # Set the Y-axis limits\n",
    "plt.legend()\n",
    "plt.show()\n",
    "\n",
    "# Print the accuracy percentage\n",
    "accuracy = model.score(X, y) * 100\n",
    "print(\"Accuracy: {:.6f}%\".format(accuracy))\n",
    "\n",
    "# Get the feature importances\n",
    "feature_importances = model.feature_importances_\n",
    "\n",
    "# Create a DataFrame with the column names and feature importances\n",
    "importance_df = pd.DataFrame({'Feature': col_names, 'Importance': feature_importances})\n",
    "\n",
    "# Sort the DataFrame by feature importances in descending order\n",
    "importance_df.sort_values(by='Importance', ascending=False, inplace=True)\n",
    "\n",
    "# Print the feature importances\n",
    "print(\"Feature importances:\")\n",
    "print(importance_df)"
   ]
  },
  {
   "cell_type": "code",
   "execution_count": null,
   "metadata": {},
   "outputs": [],
   "source": []
  }
 ],
 "metadata": {
  "kernelspec": {
   "display_name": "Python 3",
   "language": "python",
   "name": "python3"
  },
  "language_info": {
   "codemirror_mode": {
    "name": "ipython",
    "version": 3
   },
   "file_extension": ".py",
   "mimetype": "text/x-python",
   "name": "python",
   "nbconvert_exporter": "python",
   "pygments_lexer": "ipython3",
   "version": "3.8.0"
  }
 },
 "nbformat": 4,
 "nbformat_minor": 2
}
